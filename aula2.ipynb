{
 "cells": [
  {
   "cell_type": "markdown",
   "metadata": {},
   "source": []
  },
  {
   "cell_type": "markdown",
   "metadata": {},
   "source": [
    "## Convertendo tipos de Dados\n"
   ]
  },
  {
   "cell_type": "markdown",
   "metadata": {},
   "source": [
    "## Concatenação\n",
    "    Concatenção usando o sinal de  +, eu não consigo concatenar variáveis do tipo int(inteiro)"
   ]
  },
  {
   "cell_type": "code",
   "execution_count": null,
   "metadata": {},
   "outputs": [
    {
     "name": "stdout",
     "output_type": "stream",
     "text": [
      "Ola, meu nome é Karython gomes ! tenho15 anos de idade\n",
      "Ola, meu nome é  Karython gomes  tenho  15 anos de idade\n",
      "ola, meu nome é Karython gomes e tenho 15 anos de idade!\n",
      "ola, meu nome é! tenho15 anos de idade\n"
     ]
    }
   ],
   "source": [
    "nome = 'Karython gomes'\n",
    "idade = 15\n",
    "altura = 1.75\n",
    "\n",
    "# modo 1\n",
    "print('Ola, meu nome é ' + nome + ' ! tenho' + str(idade) + ' anos de idade')\n",
    "\n",
    "# modo 2\n",
    "print('Ola, meu nome é ' , nome, ' tenho ' , idade, 'anos de idade')\n",
    "\n",
    "# modo 3\n",
    "print(f'ola, meu nome é {nome} e tenho {idade} anos de idade!')\n",
    "\n",
    "print('ola, meu nome é' + '! tenho' + str(idade) + ' anos de idade')\n",
    "\n",
    "\n"
   ]
  },
  {
   "cell_type": "markdown",
   "metadata": {},
   "source": [
    "##  Entrada de Dados"
   ]
  },
  {
   "cell_type": "code",
   "execution_count": null,
   "metadata": {},
   "outputs": [],
   "source": [
    "nome = input('Digite seu nome: ')\n",
    "print(nome)\n"
   ]
  },
  {
   "cell_type": "markdown",
   "metadata": {},
   "source": [
    "## Atividade\n",
    "\n",
    "- Criar um sistema para receber o nome, idade, peso ealtura do usuário\n",
    "- Restringir a idade para receber somente valores inteiros\n",
    "- Restringir a altura e peso para o tipo float\n",
    "- Imprimam todas as informações do usuário usando a concatenação f string\n",
    "- Imprimam o tipo de dado de cada uma das variáveis"
   ]
  },
  {
   "cell_type": "markdown",
   "metadata": {},
   "source": []
  },
  {
   "cell_type": "code",
   "execution_count": 14,
   "metadata": {},
   "outputs": [
    {
     "name": "stdout",
     "output_type": "stream",
     "text": [
      "Ola, seu nome é ('Valéria', <class 'str'>) \n",
      "tenho50 anos de idade e o\n",
      "peso 60.0 e \n",
      "altura 1.55\n"
     ]
    }
   ],
   "source": [
    "\n",
    "\n",
    "nome = input(' Digite seu nome:')\n",
    "idade = int(input ( ' Digite a sua idade:'))\n",
    "peso = float(input('Digite seu peso:'))\n",
    "altura =float(input('Digite sua altura:'))\n",
    "\n",
    "print(f\"Ola, seu nome é {nome, type(nome)} \\ntenho{idade} anos de idade e o\\npeso {peso} e \\naltura {altura}\")"
   ]
  }
 ],
 "metadata": {
  "kernelspec": {
   "display_name": ".venv",
   "language": "python",
   "name": "python3"
  },
  "language_info": {
   "codemirror_mode": {
    "name": "ipython",
    "version": 3
   },
   "file_extension": ".py",
   "mimetype": "text/x-python",
   "name": "python",
   "nbconvert_exporter": "python",
   "pygments_lexer": "ipython3",
   "version": "3.12.3"
  }
 },
 "nbformat": 4,
 "nbformat_minor": 2
}
