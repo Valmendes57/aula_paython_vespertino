{
 "cells": [
  {
   "cell_type": "code",
   "execution_count": 5,
   "metadata": {},
   "outputs": [
    {
     "ename": "SyntaxError",
     "evalue": "expected ':' (905973603.py, line 3)",
     "output_type": "error",
     "traceback": [
      "\u001b[1;36m  Cell \u001b[1;32mIn[5], line 3\u001b[1;36m\u001b[0m\n\u001b[1;33m    if programador\u001b[0m\n\u001b[1;37m                  ^\u001b[0m\n\u001b[1;31mSyntaxError\u001b[0m\u001b[1;31m:\u001b[0m expected ':'\n"
     ]
    }
   ],
   "source": [
    "programador = False\n",
    "\n",
    "if programador\n",
    "    print('if é verdadeiro')\n",
    "\n",
    "else\n",
    "    print('if é falso') \n",
    "\n",
    "    print('Finalizar o código')\n",
    "\n",
    "\n",
    "    jovem = 18\n",
    "\n",
    "if jovem >= 18:\n",
    "        print(\"Maior de idade\")\n",
    "\n",
    "else:\n",
    "        print(\"Menor de idade\")\n",
    "\n",
    "\n",
    "\n",
    "\n",
    "\n"
   ]
  },
  {
   "cell_type": "code",
   "execution_count": 6,
   "metadata": {},
   "outputs": [
    {
     "name": "stdout",
     "output_type": "stream",
     "text": [
      "Esta de recuperação\n"
     ]
    }
   ],
   "source": [
    "nota = 4\n",
    "if nota >= 7:\n",
    "    print(\"aluno aprovado\")\n",
    "elif nota :=5:\n",
    "    print(\"Esta de recuperação\")\n",
    "else:\n",
    "    print(\"reprovado\")    "
   ]
  },
  {
   "cell_type": "code",
   "execution_count": 7,
   "metadata": {},
   "outputs": [
    {
     "name": "stdout",
     "output_type": "stream",
     "text": [
      "********** verificar se PAR OU IMPAR **********\n",
      "O numero 6 é par\n"
     ]
    }
   ],
   "source": [
    "#par ou impar\n",
    "\n",
    "print(10*\"*\", \"verificar se PAR OU IMPAR\", 10*\"*\")\n",
    "num = input (\"Digite um numero\")\n",
    "num = int(num)\n",
    "\n",
    "# verifica se o resto da divisão dp numero por 2 igual a 0\n",
    "if num % 2 == 0:\n",
    "    print(f\"O numero {num} é par\")\n",
    "else:\n",
    "    print(f\"o numero {num} é impar\")\n",
    "        "
   ]
  },
  {
   "cell_type": "code",
   "execution_count": 15,
   "metadata": {},
   "outputs": [
    {
     "ename": "SyntaxError",
     "evalue": "invalid decimal literal (1046995619.py, line 2)",
     "output_type": "error",
     "traceback": [
      "\u001b[1;36m  Cell \u001b[1;32mIn[15], line 2\u001b[1;36m\u001b[0m\n\u001b[1;33m    Um elevador de carga possui capacidade para 200kg\u001b[0m\n\u001b[1;37m                                                  ^\u001b[0m\n\u001b[1;31mSyntaxError\u001b[0m\u001b[1;31m:\u001b[0m invalid decimal literal\n"
     ]
    }
   ],
   "source": [
    "# desafio 2\n",
    "Um elevador de carga possui capacidade para 200kg\n",
    "crie um programa que receba do usuario o peso da carga, ou seu peso e verifica se a \n",
    "carga esta autorizada a usar o elevador ou não\n",
    "\n",
    "usuario = input(\"Digite seu peso\")\n",
    "carga = input(\"Digite o peso da carga\")\n",
    "\n",
    "usuario = int(usuario)\n",
    "carga =int(carga)\n",
    "\n",
    "peso_total = usuario + carga\n",
    "capacidade = 200\n",
    "\n",
    "if peso_total <= capacidade:\n",
    "    print(f\"Pode usar o elevador:\")\n",
    "else:\n",
    "   print(f\"Não pode usar o elevador:\")\n"
   ]
  },
  {
   "cell_type": "code",
   "execution_count": null,
   "metadata": {},
   "outputs": [],
   "source": []
  },
  {
   "cell_type": "markdown",
   "metadata": {},
   "source": [
    "# Desafio 3\n",
    "-Crie um sistema para coletar os dados do aluno,(nome, idade, cpf), em seguida soliciteas notas dos 4 bimestres da diciplina de Python que o aluno teve para verificar a MEDIA\n",
    "=Media para aprovação >=7\n",
    "-Media para recuperação >=5\n",
    "=Media para recprovação <5 (somente else)\n",
    "\n",
    "Para retirar o boletim de notas, o aluno precisa ser maior de idade(18) e caso não seja, somente os\n",
    "pais podem retirar o boletim\n",
    "    - Imprima as informações do aluno\n",
    "    - Imprima as notas do aluno em cada bimenstre\n",
    "    - Impreima a situação do aluno(aprovado, reprovado, recuperação)\n",
    "    - Imprima se o boletim sera retirado pelos pais ou pelo proprio aluno\n",
    "    "
   ]
  },
  {
   "cell_type": "code",
   "execution_count": null,
   "metadata": {},
   "outputs": [],
   "source": [
    "nome = input(\"Digite o nmome do aluno\").upper\n",
    "idade = input(\"Digite a idade:\")\n",
    "cpf = input (\"Digite o cpf:\")\n",
    "\n",
    "nota1 = input(\"Digite a nota do 1 bimestre:\")\n",
    "nota2 = input(\"Digite a nota do 2 bimestre:\")\n",
    "nota3 = input(\"Digite a nota do 3 bimestre:\")\n",
    "nota4 = input(\"Digite a nota do 4 bimestre:\")\n",
    "\n",
    "nota1 = float(nota1)\n",
    "nota2 = float(nota2)\n",
    "nota3 = float(nota3)\n",
    "nota4 = float(nota4)\n",
    "\n",
    "media = (nota1 + nota2 + nota3 + nota4)\n",
    "\n",
    "if idade >=18\n",
    "    print(30*\"*\", \"Boletim escolar!, 30*\"*\")\n",
    "    print (f\"Aluno: {nome}\")\n",
    "    print(f\"Nota 1: {nota1}\")\n",
    "    print(f)\n",
    "\n",
    "\n",
    "\n",
    "\n",
    "\n",
    "\n",
    "\n",
    "\n",
    "\n"
   ]
  },
  {
   "cell_type": "code",
   "execution_count": null,
   "metadata": {},
   "outputs": [],
   "source": []
  }
 ],
 "metadata": {
  "kernelspec": {
   "display_name": ".venv",
   "language": "python",
   "name": "python3"
  },
  "language_info": {
   "codemirror_mode": {
    "name": "ipython",
    "version": 3
   },
   "file_extension": ".py",
   "mimetype": "text/x-python",
   "name": "python",
   "nbconvert_exporter": "python",
   "pygments_lexer": "ipython3",
   "version": "3.12.4"
  }
 },
 "nbformat": 4,
 "nbformat_minor": 2
}
