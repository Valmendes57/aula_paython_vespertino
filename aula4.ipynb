{
 "cells": [
  {
   "cell_type": "markdown",
   "metadata": {},
   "source": [
    "#### Revisão Aula Python\n",
    "- teste1\n",
    "    - teste2\n",
    "        - teste3"
   ]
  },
  {
   "cell_type": "markdown",
   "metadata": {},
   "source": [
    "## Atividade\n",
    "- Crie um programa para o Boletmde notas do aluno. Guarde o nome do aluno, as notas e cacule a media final\n",
    "do aluno\n",
    "- Displina\n",
    "    - Matemática\n",
    "    - Portugues\n",
    "    - Gerografia\n",
    "    - História\n",
    "    - Fisica\n",
    "\n",
    "- Ao obter as notas e a media das notas, imprima o boletim do aluno informado as notas das matérias\n",
    "e com quanto ele ficou na media\n"
   ]
  },
  {
   "cell_type": "code",
   "execution_count": 2,
   "metadata": {},
   "outputs": [
    {
     "name": "stdout",
     "output_type": "stream",
     "text": [
      "------------------------------ BOLETIM ESCOLAR \n",
      "Matematica é:7.0\n",
      "Portugues é:7.0\n",
      "Geografia é: 8.0\n",
      "Historia é:8.0\n",
      "Fisica é: 8.0\n",
      "A media geral do aluno foi: 7.60\n",
      "------------------------------------------------------------\n"
     ]
    }
   ],
   "source": [
    "print(30*'-', 'BOLETIM ESCOLAR', 30*'')\n",
    "nome = input('Digite o seu nome:')\n",
    "nota1 = input('Digite o valor de matematica:')\n",
    "nota2 = input('Digete o valor de portugues:')\n",
    "nota3 = input('Digite o valor de geografica:')\n",
    "nota4 = input('Digite o valor de historia:')\n",
    "nota5 = input('Digite o valor de fisica:')\n",
    "\n",
    "nota1 = float(nota1)\n",
    "nota2 = float(nota2)\n",
    "nota3 = float(nota3)\n",
    "nota4 = float(nota4)\n",
    "nota5 = float(nota5)\n",
    "\n",
    "\n",
    "media = (nota1 +nota2 + nota3 + nota4 + nota5)/5\n",
    "\n",
    "\n",
    "print(f'Matematica é:{nota1}') \n",
    "print(f'Portugues é:{nota2}')\n",
    "print(f'Geografia é: {nota3}')\n",
    "print(f'Historia é:{nota4}')\n",
    "print(f'Fisica é: {nota5}')\n",
    "print(f'A media geral do aluno foi: {media:.2f}')\n",
    "print(60*'-')\n",
    "\n",
    "\n",
    "\n",
    "\n",
    "\n",
    "\n",
    "\n"
   ]
  }
 ],
 "metadata": {
  "kernelspec": {
   "display_name": ".venv",
   "language": "python",
   "name": "python3"
  },
  "language_info": {
   "codemirror_mode": {
    "name": "ipython",
    "version": 3
   },
   "file_extension": ".py",
   "mimetype": "text/x-python",
   "name": "python",
   "nbconvert_exporter": "python",
   "pygments_lexer": "ipython3",
   "version": "3.12.4"
  }
 },
 "nbformat": 4,
 "nbformat_minor": 2
}
