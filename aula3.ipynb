{
 "cells": [
  {
   "cell_type": "code",
   "execution_count": null,
   "metadata": {},
   "outputs": [],
   "source": []
  },
  {
   "cell_type": "markdown",
   "metadata": {},
   "source": [
    "## operadores\n",
    "- soma\n",
    "- subtração\n",
    "- multiplicação\n",
    "- divisãp\n"
   ]
  },
  {
   "cell_type": "code",
   "execution_count": 13,
   "metadata": {},
   "outputs": [
    {
     "name": "stdout",
     "output_type": "stream",
     "text": [
      "20\n",
      "1010\n",
      "20\n",
      "O resultado é: 15\n",
      "O resultado é: 30\n",
      "20\n",
      "Resultado da subtracao é:25\n",
      "600\n",
      "Resultado da multiplicacao é:200\n",
      "2.0\n",
      "Resultadi de divisao é: 2.0\n"
     ]
    }
   ],
   "source": [
    "# soma\n",
    "print(10+10)\n",
    "# concatenação\n",
    "print('10'+'10')\n",
    "\n",
    "# somando com variáveis\n",
    "num1 = 10\n",
    "num2 = 10\n",
    "\n",
    "\n",
    "soma = num1 + num2\n",
    "print(soma)\n",
    "\n",
    "valor1 = int(input('Digite o primeiro valor:'))\n",
    "valor2 = int(input('Digite o segundo valor:'))\n",
    "\n",
    "resultado = valor1 + valor2\n",
    "print(f'O resultado é: {resultado}')\n",
    "\n",
    "valor1 = input('Digite o primeiro valor:\"')\n",
    "valor1 = int(valor1)\n",
    "\n",
    "valor2 = input('Digite o segundo valor:')\n",
    "valor2 = int(valor2)\n",
    "\n",
    "resultado = valor1 + valor2\n",
    "print(f'O resultado é: {resultado}')\n",
    "\n",
    "\n",
    "# subtração\n",
    "num1 = 70\n",
    "num2 = 50\n",
    "\n",
    "subtracao = num1 - num2\n",
    "print(subtracao)\n",
    "\n",
    "valor1 = int(input('Digitar primeiro numero:'))\n",
    "valor2 = int(input('Digite o segundo numero valor:'))\n",
    "\n",
    "resultado = valor1 - valor2\n",
    "print(f'Resultado da subtracao é:{resultado}')\n",
    "\n",
    "# multiplicação\n",
    "num1 = 20\n",
    "num2 = 30\n",
    "\n",
    "multiplicacao = num1 * num2\n",
    "print(multiplicacao)\n",
    "\n",
    "valor1 = int(input('Digite primeiro numero:'))\n",
    "valor2 = int(input('Digite o segundo valor:'))\n",
    "\n",
    "resultado = valor1 * valor2\n",
    "print(f'Resultado da multiplicacao é:{resultado}')\n",
    "\n",
    "#divisão\n",
    "\n",
    "num1 = 20\n",
    "num2 = 10\n",
    "\n",
    "divisao = num1 / num2\n",
    "print(divisao)\n",
    "\n",
    "valor1 = int(input('Digite primeiro numero:'))\n",
    "valor2 = int(input('Digite o segundo valor:'))\n",
    "\n",
    "resultado = valor1 / valor2\n",
    "print(f'Resultado de divisao é: {resultado}')\n",
    "\n",
    "## atividade\n",
    "# desafio 1\n",
    "- Declare 2 variaveis, cada uma com um valor definido. Some e mostre o resultado concatenado \n",
    "a um texto\n",
    "\n",
    "# desafio 2\n",
    "- Crie um sistema onde o usuário irá inserir 2 valores, guarde-os em variaveis, e em seguida as\n",
    "4 operações matemática básicas (-, + / *) emostre o resultado de cada uma na tela\n",
    "com um texto indicando qual operação foi realizada\n",
    "\n",
    "# desafio 3\n",
    "- Crie um sistema que receba o nome do usuário, a idade, so podendo\n",
    "recebcer m valor inteiro, em seguida mostre as informações obtidas\n",
    "(nome e idade) e peça ai usuario qye digite 2 números para que sejam somados, \n",
    "mostre a soma dos 2 números\n",
    "\n",
    "\n",
    "\n",
    "\n",
    "\n",
    "\n",
    "\n"
   ]
  },
  {
   "cell_type": "markdown",
   "metadata": {},
   "source": [
    "print(\"Olá Mundo!\")\n"
   ]
  },
  {
   "cell_type": "code",
   "execution_count": null,
   "metadata": {},
   "outputs": [],
   "source": [
    "print(\"Ola Mundo!\")\n",
    "num1 = 10\n",
    "num2 = 20\n",
    "print(soma)\n",
    "soma = num1 + num2\n",
    "print(f'O resultado de {valor1}+ {valor2}  é: {soma}')\n"
   ]
  },
  {
   "cell_type": "code",
   "execution_count": 26,
   "metadata": {},
   "outputs": [
    {
     "name": "stdout",
     "output_type": "stream",
     "text": [
      "A soma de 50 + 20 é: 35\n",
      "A multiplicacao de 50 * 20 é:250\n"
     ]
    },
    {
     "ename": "NameError",
     "evalue": "name 'nume2' is not defined",
     "output_type": "error",
     "traceback": [
      "\u001b[1;31m---------------------------------------------------------------------------\u001b[0m",
      "\u001b[1;31mNameError\u001b[0m                                 Traceback (most recent call last)",
      "Cell \u001b[1;32mIn[26], line 17\u001b[0m\n\u001b[0;32m     15\u001b[0m \u001b[38;5;28mprint\u001b[39m(\u001b[38;5;124mf\u001b[39m\u001b[38;5;124m'\u001b[39m\u001b[38;5;124mA soma de \u001b[39m\u001b[38;5;132;01m{\u001b[39;00mnum1\u001b[38;5;132;01m}\u001b[39;00m\u001b[38;5;124m + \u001b[39m\u001b[38;5;132;01m{\u001b[39;00mnum2\u001b[38;5;132;01m}\u001b[39;00m\u001b[38;5;124m é: \u001b[39m\u001b[38;5;132;01m{\u001b[39;00msoma\u001b[38;5;132;01m}\u001b[39;00m\u001b[38;5;124m'\u001b[39m)\n\u001b[0;32m     16\u001b[0m \u001b[38;5;28mprint\u001b[39m(\u001b[38;5;124mf\u001b[39m\u001b[38;5;124m'\u001b[39m\u001b[38;5;124mA multiplicacao de \u001b[39m\u001b[38;5;132;01m{\u001b[39;00mnum1\u001b[38;5;132;01m}\u001b[39;00m\u001b[38;5;124m * \u001b[39m\u001b[38;5;132;01m{\u001b[39;00mnum2\u001b[38;5;132;01m}\u001b[39;00m\u001b[38;5;124m é:\u001b[39m\u001b[38;5;132;01m{\u001b[39;00mmultiplicacao\u001b[38;5;132;01m}\u001b[39;00m\u001b[38;5;124m'\u001b[39m)\n\u001b[1;32m---> 17\u001b[0m \u001b[38;5;28mprint\u001b[39m(\u001b[38;5;124mf\u001b[39m\u001b[38;5;124m'\u001b[39m\u001b[38;5;124mA subtracao de \u001b[39m\u001b[38;5;132;01m{\u001b[39;00mnum1\u001b[38;5;132;01m}\u001b[39;00m\u001b[38;5;124m - \u001b[39m\u001b[38;5;132;01m{\u001b[39;00m\u001b[43mnume2\u001b[49m\u001b[38;5;132;01m}\u001b[39;00m\u001b[38;5;124m é:\u001b[39m\u001b[38;5;132;01m{\u001b[39;00msubtracao\u001b[38;5;132;01m}\u001b[39;00m\u001b[38;5;124m'\u001b[39m)\n\u001b[0;32m     18\u001b[0m \u001b[38;5;28mprint\u001b[39m(\u001b[38;5;124mf\u001b[39m\u001b[38;5;124m'\u001b[39m\u001b[38;5;124mA divisao de \u001b[39m\u001b[38;5;132;01m{\u001b[39;00mnum1\u001b[38;5;132;01m}\u001b[39;00m\u001b[38;5;124m / \u001b[39m\u001b[38;5;132;01m{\u001b[39;00mnum2\u001b[38;5;132;01m}\u001b[39;00m\u001b[38;5;124m é: \u001b[39m\u001b[38;5;132;01m{\u001b[39;00mdivisao\u001b[38;5;132;01m}\u001b[39;00m\u001b[38;5;124m'\u001b[39m)\n\u001b[0;32m     21\u001b[0m \u001b[38;5;66;03m#desafio 3\u001b[39;00m\n",
      "\u001b[1;31mNameError\u001b[0m: name 'nume2' is not defined"
     ]
    }
   ],
   "source": [
    "\n",
    "#desafio 2\n",
    "#soma\n",
    "\n",
    "\n",
    "\n",
    "valor1 = int(input('Digite o primeiro valor:'))\n",
    "valor2 = int(input('Digite o segundo valor'))\n",
    "\n",
    "soma = valor1 + valor2\n",
    "multiplicacao = valor1 * valor2\n",
    "\n",
    "substracao = valor1 - valor2\n",
    "divisao = valor1 / valor2\n",
    "\n",
    "print(f'A soma de {num1} + {num2} é: {soma}')\n",
    "print(f'A multiplicacao de {num1} * {num2} é:{multiplicacao}')\n",
    "print(f'A subtracao de {num1} - {nume2} é:{subtracao}')\n",
    "print(f'A divisao de {num1} / {num2} é: {divisao}')\n",
    "\n",
    "\n",
    "#desafio 3\n",
    "nome = input('Digite seu nome:')\n",
    "idade = int(input ('Ddigete sua idade'))\n",
    "\n",
    "print(f'Seu nome é {nome} e tem {idade} anos de idade!')\n",
    "numero1 = int(input('Digite p primeiro numero:'))\n",
    "numero2 = int(input('Digite o segundo numero:'))\n",
    "\n",
    "soma = numero1 + numero2\n",
    "print(f'A soma dos numeros {numero1} + {numero2} é. {set_matplotlib_formats}')\n",
    "\n",
    "\n"
   ]
  }
 ],
 "metadata": {
  "kernelspec": {
   "display_name": ".venv",
   "language": "python",
   "name": "python3"
  },
  "language_info": {
   "codemirror_mode": {
    "name": "ipython",
    "version": 3
   },
   "file_extension": ".py",
   "mimetype": "text/x-python",
   "name": "python",
   "nbconvert_exporter": "python",
   "pygments_lexer": "ipython3",
   "version": "3.12.3"
  }
 },
 "nbformat": 4,
 "nbformat_minor": 2
}
